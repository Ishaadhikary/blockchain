{
 "cells": [
  {
   "cell_type": "code",
   "execution_count": 2,
   "id": "314bc04a",
   "metadata": {},
   "outputs": [
    {
     "name": "stdout",
     "output_type": "stream",
     "text": [
      "Bitcoin Core stopping\n"
     ]
    }
   ],
   "source": [
    "!\"D:\\IV_II\\blockchain\\Bitcoin\\daemon\\bitcoin-cli\" stop\n"
   ]
  },
  {
   "cell_type": "code",
   "execution_count": 105,
   "id": "764d39c0",
   "metadata": {},
   "outputs": [
    {
     "name": "stdout",
     "output_type": "stream",
     "text": [
      "{\n",
      "  \"name\": \"sam\",\n",
      "  \"warning\": \"\"\n",
      "}\n"
     ]
    }
   ],
   "source": [
    "!\"D:\\IV_II\\blockchain\\Bitcoin\\daemon\\bitcoin-cli\" -regtest createwallet sam false\n"
   ]
  },
  {
   "cell_type": "code",
   "execution_count": 107,
   "id": "f280367b",
   "metadata": {},
   "outputs": [
    {
     "name": "stdout",
     "output_type": "stream",
     "text": [
      "0.00000000\n"
     ]
    }
   ],
   "source": [
    "#check balance\n",
    "!\"D:\\IV_II\\blockchain\\Bitcoin\\daemon\\bitcoin-cli\" -regtest -rpcwallet=sam getbalance"
   ]
  },
  {
   "cell_type": "markdown",
   "id": "4714e437",
   "metadata": {},
   "source": [
    "#To get coins\n",
    "!\"D:\\IV_II\\blockchain\\Bitcoin\\daemon\\bitcoin-cli\" -regtest -rpcwallet=sam -generate 200"
   ]
  },
  {
   "cell_type": "code",
   "execution_count": 109,
   "id": "82234e28",
   "metadata": {},
   "outputs": [
    {
     "name": "stdout",
     "output_type": "stream",
     "text": [
      "2487.50000000\n"
     ]
    }
   ],
   "source": [
    "#check balance\n",
    "!\"D:\\IV_II\\blockchain\\Bitcoin\\daemon\\bitcoin-cli\" -regtest -rpcwallet=sam getbalance"
   ]
  },
  {
   "cell_type": "code",
   "execution_count": 110,
   "id": "553390cf",
   "metadata": {},
   "outputs": [
    {
     "name": "stdout",
     "output_type": "stream",
     "text": [
      "{\n",
      "  \"name\": \"dean\",\n",
      "  \"warning\": \"\"\n",
      "}\n"
     ]
    }
   ],
   "source": [
    "#creating new wallet\n",
    "!\"D:\\IV_II\\blockchain\\Bitcoin\\daemon\\bitcoin-cli\" -regtest createwallet dean false"
   ]
  },
  {
   "cell_type": "code",
   "execution_count": 111,
   "id": "cce43d85",
   "metadata": {},
   "outputs": [
    {
     "name": "stdout",
     "output_type": "stream",
     "text": [
      "0.00000000\n"
     ]
    }
   ],
   "source": [
    "#check balance\n",
    "!\"D:\\IV_II\\blockchain\\Bitcoin\\daemon\\bitcoin-cli\" -regtest -rpcwallet=dean getbalance"
   ]
  },
  {
   "cell_type": "code",
   "execution_count": 112,
   "id": "2126d316",
   "metadata": {},
   "outputs": [
    {
     "name": "stdout",
     "output_type": "stream",
     "text": [
      "{\n",
      "  \"address\": \"bcrt1q9lt523kane36n7nvxtadpfzjn05qaja7hfnlkr\",\n",
      "  \"blocks\": [\n",
      "    \"4eb1b6b127324beb7fe61c12e41e9c19f46b05eb750e61bd8909c1e1a04c101b\",\n",
      "    \"004366965dc8f1b2b28b0d1a077cde462137c1f778bb6ad24dd0eac0112c71f2\",\n",
      "    \"1ced6de632964c0c6eeea6f557b399b4bd5d73ae2d16d82037d5f4222c046ef8\",\n",
      "    \"5d785776bcd932a550781533885cf0788c09ceb97b0320581f1c775c2d580568\",\n",
      "    \"12934aa9c54c064599a3adcfa01ec6ce145d59f8b2ebfda16d0e052a3c19e849\",\n",
      "    \"1c41a585fdfc836bda46660ba7612053feafbb91853e5b1411c21b74505c0c86\",\n",
      "    \"54e09f1d5bf3fcb3445aba24fc91f99cd9cb93480319339d9ce1c69898f390eb\",\n",
      "    \"3b84d93b978ae0b7daea2ddcc335bbb2aa142a274b8e0fa9e96fdbf6280f6b15\",\n",
      "    \"2ed6e12698a3653024fe7ae3e2aed70586418872f23ded5be6bf474a28a234b7\",\n",
      "    \"3f425e5fb2ff7d138ae3f3be8af71a751183934001352a5322502b2bd75f749a\",\n",
      "    \"75d017c19e277221550fbce8ea95575aa91b22e60f9a5438ec1990357dd7ff87\",\n",
      "    \"2fc65028fdf5e9bed88456aeb2f4cc2999d8e3a45825274e89e6ea1eae084b6b\",\n",
      "    \"14d02c645e2a1e49e2b2a4376b9843349cee77b88a2d534df222a2f2ee297c75\",\n",
      "    \"4cbc02dad2a38fcb2a0c28f87f44b18e085bc82ceee53ac8f9deff754ac0473a\",\n",
      "    \"566541b39f06e1203f6e8f69b79d45e5207280622f7e5243234f6359581c193c\",\n",
      "    \"378444b35e801fa8e1447e6141e74990a5e02d6aa1a0bd8094d85269209e1658\",\n",
      "    \"345861fd3b284100cc43205cdc5375fd4104b8b13763d96cd4528aa5c8201db0\",\n",
      "    \"0e696e504fc6543926287169a2a374aea31aa05512b7b00aa93043a26817b016\",\n",
      "    \"30dc429bcef6293b039a1075ee629b6f208ab8ef96521101ab90cd64fcdb5559\",\n",
      "    \"5dcfb6787ae515b9f71e3bf686c20ad6113ba53a7400f3d868ff7bef54cc838e\",\n",
      "    \"6d6ddce8911058ef627ca20fa1cb9e76e1b0c944f2f07e478474954d2967b055\",\n",
      "    \"0b83c86cc7a07ecf707abbf77ac4a550e407d4da11a39e6ae98dd22e53e20952\",\n",
      "    \"7d5eeec7e46f3be0f3c3d4321da17ba105b1583929c0a891bec38008c7879321\",\n",
      "    \"1b1776f3478a24d63af6a16bc61d88876835114789860591efa77c5d155b5648\",\n",
      "    \"409a18778bc4aabd5851487c3f3c236ef174516ff3e1460605170a14917ddaf4\",\n",
      "    \"287e39d69e6b493d9e1c23e0cd754b7756cc300c4fe92b95b7c75bbe184ed5b4\",\n",
      "    \"1b64a8b8f2f84792740e594c4123c1d163ad71ff12e026baea6e80425fbc46fa\",\n",
      "    \"39b38fc7e4b223a1c0687fb1d7b0b605df1b555f88ce25315788d9e7e78657e6\",\n",
      "    \"7b332d610d085207fe6b32287544e11f62f66a076a55021855764e15c6545472\",\n",
      "    \"4308c1a9f7988e2e3999429c9416a91441e42e51452d823d3e45edb18b7d1b65\",\n",
      "    \"71fd30dc063832d07ac0dfea2a37444025a6fad8ac10e92699afdc9833cbe092\",\n",
      "    \"07be892d95508f41f2a2d2609e17d494530fbe8baa4e7200fe2f93ebb449421e\",\n",
      "    \"6f6545c826df4a791c118ebf5f779df9940ac7b5f51cc4bca861fde20d9369a9\",\n",
      "    \"53a6da2cd5e78781b97c60888ae2bab7e366f169e2e102771a6a2de9a3d6eba6\",\n",
      "    \"5e74be8aea1187d38db637297cfa5e5971a6640fa2f00bdcacc5e600862f5c9a\",\n",
      "    \"388ce458a4d63612a1440836cf5ce980731714ab4236cb131b839705360c426e\",\n",
      "    \"7df84fabe8a5cac6da1c31e94dbb1e67dd436343299640e80600b209540893f1\",\n",
      "    \"4cdc72ca38440bcfb889fb17160f2e28867061496db820931cd131dc547cd1de\",\n",
      "    \"2936afaa7f35aa454d85f31525af410e9eff7191725692755be9af35d1675be7\",\n",
      "    \"35b67a32985e0993c30c6e37ee6992180666b9cc3798d7d4cd10248859dd7996\",\n",
      "    \"5fc7b33e66a8d0aedc7ab7cc0cc0cf240210f644b23d13e4ce7f880e7ac88b98\",\n",
      "    \"64c2519cd064dfd84425e3ff3c7387bb22150e60fd631253ac5fb4fbf530e2ab\",\n",
      "    \"7a7286a4eb1e0e23415a582b08a2faeafb9c3153381558d8a3b36b9d917ecfc9\",\n",
      "    \"2fcac555aeb0c8b2f90b0ac7f2ad78df52cf3696ba2017722058b514c18ac6f2\",\n",
      "    \"1e2b3fe0c90c37d052398efd8d5ed87b0325aa590ffbd6d5e12b0fec6b5b25cb\",\n",
      "    \"543efeca7dc8ac074cd8ef770ea88b5339336b696b535600c19a74f3488cabe4\",\n",
      "    \"697cdd411e59fc4dcbc196d63f1f093604a87580a6fdb27120261e313f03dfd6\",\n",
      "    \"7abfcf384ed14f140b8838c0a95d8c4fcf9c2c1332e7285cba5cb3836bc5b949\",\n",
      "    \"4970319ecb97dcdf73d23395acb374f328152300031daf3a401ce772dad6a786\",\n",
      "    \"5306c37446b32fb4ae64bd328864dfa34c9c4ca03884529b76deba345c1f3757\",\n",
      "    \"193dada06f75d65a214dc19bcacf5dece7cf19cdea0fb432a21ac7cd4cb248ef\",\n",
      "    \"593658859b15bb9d1018fc77b69df141ab4c059d6abf6c583b86a06331fcb569\",\n",
      "    \"0060039b3148d1febf707a16f98c16ba1b04a6c82c4b436b33e20d4d1dc082f3\",\n",
      "    \"6129ebee03665cf7561ec7da309642ee6ab4fd5de093d5460ce83ca22c1db14c\",\n",
      "    \"291b9938d63ce819260af1f6a9b554d9c364a92ec7d920d8eae5a3bdb3af2dfa\",\n",
      "    \"2e3b09a107bd43ddaa02e5181d0f343705bcfdf3ee8e7585e9683465218a6add\",\n",
      "    \"6408625f4a90b032e41d38f3aa7148147e9982fa81a3e1c8a97fbcc179a3331d\",\n",
      "    \"71d3a87bb886a5d31c6b9fce683694b90990fe5e1b9a6c2103a6736ee2e263f2\",\n",
      "    \"38cfc84c3b393da648adab67ea5b14b08de5ce20266f54d41eb056bfec1aa63a\",\n",
      "    \"7292f567b3f5fcbba6b4d912656d03c7988422413c8d4156c1409e16eec538ec\",\n",
      "    \"2b692434018365d8f8973b8d19dd622c0a47ca8714af87cf550763b7068a65e2\",\n",
      "    \"4ce86faf9a5d0364ff1dfe9a02c1dd2611fb7e8cff22281f0a9bf9bf358d94fb\",\n",
      "    \"44396a7173809ce26d5d2bc2e6e2b832f87e7316697bee3150997579c25b70f1\",\n",
      "    \"1db986d084da0680fcc57d20dc3461837523314df62636d7d6c8ce82d045e39f\",\n",
      "    \"43c801708e2e938045b257be14db781646c225dc152d0e6773f59ab8e88a6cfc\",\n",
      "    \"1ed4938b669fafd0f37e62103085f46e54d0facd15833ba87071af9a5f300935\",\n",
      "    \"0504feb501143b9a32e34474b6b2ac3d3db2211c4622c628e15016b2b4797a4b\",\n",
      "    \"639a190d88b3081353cea3fc8d2c65a31620b4fca9c799bfeeb10c81e0d6ff91\",\n",
      "    \"32ec61fb9904efce873da987dbe570768b05485dbd29a0406d1ba2a946e82026\",\n",
      "    \"16b9a730e70d08452210783aa4cf2583ed6ed3dc788520afa7a4ad1168bb07d2\",\n",
      "    \"57c4336220d77234534dd3e11878cc33a68412f42a0841ec8a27ff92fc7260ad\",\n",
      "    \"741a5ee3cbb4c13b6fad937f85cc23d705050bf49015f879ca72f9991d67d608\",\n",
      "    \"27d2e10f26d3a3ae3956089d75dddba2ae515f6971f81ef2975c64d10c72ba74\",\n",
      "    \"4d4f01aa9042b49fd1c6591e145ee5ae1ad464e54b09e15330c430d4b1fbd3dc\",\n",
      "    \"25aeec11cdf346cbad751be8346a56423d24cf8d21fedfaeafc8a20e988b1070\",\n",
      "    \"0ae6b0ddfc9af0135561cbf6a1778d31d3897c3335caa1ea84471e4dfba4481a\",\n",
      "    \"12b861d378c5b3cb475b8cc5dba2d95e8727be89ec07cadf5790cd7769adf9a0\",\n",
      "    \"4bba3472b7005aa8d75a84d17749bf8c29529a8d56a01c011a9afd9a11745642\",\n",
      "    \"728843ea3dae33b3a497de8cc66dc823dbce1e269a971bc09fb15655de58d159\",\n",
      "    \"14aef654dfb1cab2e4252bd80ac488fe50c5d0472e08e48014ea7748c05637cd\",\n",
      "    \"066f77bd729eb38c3b5a4d9a510f812bd2aa2669453bf15bd97ef82c6e962268\",\n",
      "    \"5c26d3a6d7c52ff12ed23c44de258206eac08ee98e084c02c3dc9a8ccab06fd4\",\n",
      "    \"03312076fc4bdfe02f4a868853e48cdf8e7c5d79dd8ce46c09a714100671e7e0\",\n",
      "    \"2814be53e47d5974804869cff192d349649a1e4a2973cde723584a4d39811245\",\n",
      "    \"1d42bf91ba4eccbe637d441b761775e6f444207d75817b44791c47f7798a55bf\",\n",
      "    \"11bb422ceef42dd37b429764277e19b97b105caad8194a322d13d55dfbc627b3\",\n",
      "    \"3b1d027fc68875584b20de2b3ca58c85cf204394e55446af8ec9e3588da5c973\",\n",
      "    \"41bc8066b202ea27f9dacc2fdf4b5d2c1a7b524f5c7c710d3a42bff5b52f274c\",\n",
      "    \"763a5655fec7fa75388a1836c37482e1c6b9e0034b6fa2f58dc96df4750de622\",\n",
      "    \"3776bc1ace2f746315e9aba77d37053e733edc859bb894394747da7afcfeb2ce\",\n",
      "    \"1e0eb2a554b5446dc632fa1486a5213d46dace9667025a24517eb4438b29f199\",\n",
      "    \"7934857b62daa0d9f92bcde85bd9e7c8100627406752085cc47f5570687439a6\",\n",
      "    \"56683e0f23d25a3e532e20511980a212fcf78e99148961837b6d30b7faab4f39\",\n",
      "    \"6f94d73bde2e7d842077737b0e654f823614258d8ac130c34fa05efdc9338faa\",\n",
      "    \"5d1edf6f1d7d8b9da12c1dec87e3393d1e6df59968380cc206b287532cfa4f48\",\n",
      "    \"1fd2a963a5554e9c41f79e11d2e4201103c26632535126a485c16e6c01f4dcab\",\n",
      "    \"22e13126fc05914d22902fb07f0148c71e7449c477f478aa88ec88f02f612de8\",\n",
      "    \"0c56993645b61c6c34075a17e50b8c6896dc50c4fa8c6a68ac1d7b2ba1076e8d\",\n",
      "    \"5397d1fb1797d54844ce1918932667c0474cecbf794777cec44393d929628423\",\n",
      "    \"4145ad423f6687c57d7f5be88c1de7f9ef9640dc4fe78a304db2ae44ae016ad9\",\n",
      "    \"103eefacfe8dada2b8d62ef22c277e1f5382707a22ac0afe2e77a0937dfe6c30\",\n",
      "    \"3853e042aa1e380c66ed9262a0520ad05bf2897dbb99bba79dc04e34715c02a2\",\n",
      "    \"02dedf9877945e3b2a53a9aada697c4990998a662873687e4cd2d972ac8afd77\",\n",
      "    \"62f84226240237662feb61b1378228809c6ef4f385466509a0db13e764b18c40\",\n",
      "    \"5eba44948c1e8127bf99e1bf7bfc9a7cde3d06ecdd0a8feea60c9eb239e289f5\",\n",
      "    \"791864e0ad9527edc0211671356f9eb0a779d7a01d50199abb05242440d9ac24\",\n",
      "    \"353212acf88cf91a2ca76d548b16ac5bf47a815e5deefe99ff1eed68a6b21868\",\n",
      "    \"4d6521a59f73ce2cdce5c1e9877b0e3b0ca73408869c88295c276c1663d0ce82\",\n",
      "    \"47cf2858aa2d9e58c36cd0d052a25e6d2230e82b5d8decd06cee0cf43d31f754\",\n",
      "    \"60b8cedcb2949a4909658ea5f134fa929f6e9c5760f5bc417236acaf661c8539\",\n",
      "    \"732055de58e8096c862cb12dc2adace869581c908bc0e9abc17405894f21586e\",\n",
      "    \"5e7a316775c4c1bb7528f06e861d2ff464bb1be8ca060dbfc7303dbb9757747e\",\n",
      "    \"3803595940f98e99bb771465301c5399715845103b5d7646e0c05cbc7d0c98d2\",\n",
      "    \"42d366ff5e568cf7c65168f921d85adcc9b4b9fad4af45433914b035cef0f98b\",\n",
      "    \"496cd4bc3698ae3f1b3847414883c40dbb617ffeda9677c42adddc809a8c1091\",\n",
      "    \"7df92c924afdeddf76d3fcba537006ad918f3965c4d5c3175ce6cd732982051e\",\n",
      "    \"70f614d97c71adb67c8390e45b7c8ba7f3acf22a4ccbfc87ab827a101d89f21e\",\n",
      "    \"305913f8e1d2d0cbb66533aa50ba21620b669c1fa102e24cf50713ab50b5fc57\",\n",
      "    \"2855d61fa3c9a41e5d68a0afe80f39ef5557c15d8bcb4fde5acda792faa82740\",\n",
      "    \"018f3a5fc899c035e009280c2f603547725df3eb1759990ed01d3715a5ee21da\",\n",
      "    \"7906140cd946dfbdd56c981431d35eb07044d646ff5784353ac642f2ed8d8768\",\n",
      "    \"6b5316a0efdc1aea553ddf6fc204b07feb77a5d6b27f8d43f2445d1ef5e784fa\",\n",
      "    \"73c76081224fc1ba4050fa54dfbf04ddc4a733d1526c6dc8bd6dd7a1d37217c4\",\n",
      "    \"43975f834e8b18fd7b613a4c1c67e7b61aa61f857db9d8cb7bffa50e3590aa9a\",\n",
      "    \"1469f3cc61ba59cd157edf221f5cdda0ab784f2511f2538adb3e6aad309b8a02\",\n",
      "    \"06782526b7dbf1f6bea5245219df48fe8a95f192251672af352c9cbed6456cb5\",\n",
      "    \"302a8d2bca8d15d709ba0daf3771d618bbb3c8364c64b14366456b47c5358700\",\n",
      "    \"740062fd8173f58387acecef9f929fd555f80351624e94aa669ea093ac98021c\",\n",
      "    \"69ac01abb1a0c29bdf80292b649e0a92183bcb96c2e054e06ded4cc66b02a8b6\",\n",
      "    \"7ddddc4f9c25b93df4643e249e3706a651865f49fb8d15c789f8fbb50cf5eacc\",\n",
      "    \"59a240f59c459ae243e825f779fc7219af8ed90de85d182dfb66d7bfa0ef370a\",\n",
      "    \"3e311850d4155890b511a53f00420b77128604ee30257880f39dc5f4cb851818\",\n",
      "    \"548c282e3bc93b6bfa82891c6bd2b249f26daa27658f68b0a3978c0563bdcc6d\",\n",
      "    \"5aa8a61638c9f2c637b8c5639dde3f2fa7c80e0cb1123db0afdceea49deb97a4\",\n",
      "    \"09ed9dbbaa54905072b20b8e7e37d222722367d5936f5b5b21fafb0d73b0aa9b\",\n",
      "    \"7d4eb9b2f80f08e1a4e7fa11b91dc9ebde234d5aae366ce647b90a89cbf94614\",\n",
      "    \"6ffcd3b22c426e5abc3efd79270edfae47df80ece3eab36bf3d44029a7eef510\",\n",
      "    \"16d0c2ca08496629089137812b0e0f6e8f9a043b441373cb041c811e087ff7ef\",\n",
      "    \"7998f9794dfc55e46ad22fc1617264b76e13b165465779416a94d44f102958c5\",\n",
      "    \"0064a6864bcb895b3bbc0cb0a1e91f07f416a5cecedda529bb83342b0634eb4a\",\n",
      "    \"3cdffa78da2ebe5d945452b3741d0bc7c55dd48ab4cad125612fa3fc0a1882e2\",\n",
      "    \"422292eb459b88ae49c956477cbcb6547b68b72dee73a8622e119ad2476cfbb1\",\n",
      "    \"22674bcc88a9c391955b45385e93351c73f93ae4844c521635b03601aedb64fc\",\n",
      "    \"13780e6e947711883fcf5912e5c98027001461a9e82f93a3e57a966a3198dd5c\",\n",
      "    \"3963dcb9b6aeb8611f0f4f3b1a364ef689f56ae1088aed6ddcd326aeb59c026f\",\n",
      "    \"171ef194007a2e207ee661969b60cd8a4ff18369d594a15ed2cd37e790d943b9\",\n",
      "    \"0716b940db39944d582c46aceed3a6171ced1b30c7ab0d35a87292fb6f5f2b6b\",\n",
      "    \"50972057a2ed0d63b8aa960a6d0678406918061c862f7d1c358f9b46a77d46c5\",\n",
      "    \"1f9477402a254ef94a7fd9954157e6700a5f837fc4b36180e868eb7960bee35b\",\n",
      "    \"299af2cbb8c9d01a93934a94bb569fae99e34e8448adbcd51bab7b70abcbc4cf\",\n",
      "    \"6fd9c3eb711f51049dc359224405ce995f3eddcc56de8f9ea2af18db57bcc058\",\n",
      "    \"558a1e556426e5d2c1bf2d994b9016be92bb01aa981834686c798faf6525ad74\",\n",
      "    \"73304e924151715b519d4f78c66803af34a81e433fe39fe314163f7ee8cfb229\",\n",
      "    \"0908bbcef78a74c22f8eb8c9bbbc9651120eab21ee2d9b1e82dfe1c65c673ebe\",\n",
      "    \"4b3a07c3e1a6adf8c4001415d76ea3d5a06072f6d98e569679fbb001811882fc\",\n",
      "    \"32a231bb9e2d7f5552b3eb0182f834d71e14c53ea8e7a81d1da45d95c59c4c55\",\n",
      "    \"6da2e3810f97b599bca809024db736b9bf7c4c5b421329a0ca1dd0c8ada9167a\",\n",
      "    \"55981ed7bb505e7ae85c0cba0ec8af80608b06413ce9a3492bbf896a5ecaf91f\",\n",
      "    \"11fa0cd053b5e97110c38ea8beae5a9d2da3051e8cc4680b5c8acbfeb690c1fa\",\n",
      "    \"65fc9b0964f29b100aceb5829d29cb80cf8d72f111580e3e0fe62071d83a1f07\",\n",
      "    \"2a7bbf2d682c2b0c3ef717da2156d37e837cdcb3a0e9181f95a109b56f4efab5\",\n",
      "    \"7fef7dcfe295f611f361cc26f3694d31b4da26a4b1e81db0db83ed328ee1b794\",\n",
      "    \"1d0a21502a24a1df76df8a4e6388df251ac8c15630654b5677233d96214d626e\",\n",
      "    \"69b4507f713f3c9b2d61ffd50942377da8838de9890595cd8ff1409aa05e5b27\",\n",
      "    \"36539229d6a73ce5d2320c144d750a35132c70f386ce30fb40e34db31b7be11b\",\n",
      "    \"00b8bfe2e3ef281c25c6ad940b552c2ae79b0e46732db21fcbad9e8371c351f6\",\n",
      "    \"13f5f2ffbdd1c210d84eebe1e42219a3227e2b5e495ea28ac4b44ee8260777c4\",\n",
      "    \"26ccf56422811755f4fa67b66937ae5fdfbc26c1cadbcc13bc9fcb4637210e54\",\n",
      "    \"516b7a9829dbd63890b671c8c66809ab4e72d91e391783de0397b2039f15fb91\",\n",
      "    \"21ce9c373a2a4ebacd247506046b017d83d0ed992a0f3810cef0d0f164290f79\",\n",
      "    \"0144fcf2b89c90f7e7dd8d50c012d130f6b8be78b15d9609a2500990faeebae8\",\n",
      "    \"292a6fa3c3a390489b3a90c33ce6187c1cb6d4c0faff3e2340ea7a338b6645b7\",\n",
      "    \"6f6e27385c5b2f51d284184af186d6838f1db931d96115ed355de8c1bd135fea\",\n",
      "    \"34c134bd8188d114d1a3c2213b9fb197cc5274066fa31ef073444b01623de8f6\",\n",
      "    \"7ea3147ffb3e6746380c6230251bd76e7c7024f6c94c2375a6b46c1a1a419db1\",\n",
      "    \"691b8dda5f8a3bc0a72fc6e128aecac24263f055c2e79efae56cb340f638f6f0\",\n",
      "    \"172171f4630ca1201fa7cba98c2c0b064e96539a3636e6baddb92d8b1798058d\",\n",
      "    \"439cd1186d25d6afe90dd10ae7188278c2b2f685aa94f9f743762ec4b5b532f4\",\n",
      "    \"197441a20aeaed7ba226b1678700889cd870fb1c5c989fc4e9ec766ffed908b1\",\n",
      "    \"2723c23baa622679571cfab1cf6466a3ae48ca305360d851c1f31c7fc693e651\",\n",
      "    \"3ccae8604e60a1914dd64839e8e54691ff2debafaa2819972e5ef1377f6e01a8\",\n",
      "    \"07074bdf477d201e4da72bb8224ea651e18db11683941609b7457bb3a9bcfa19\",\n",
      "    \"32ef0439a73d9e9b3bc567a4af5efcebbaae066e87cceeba89ff2ea55058be06\",\n",
      "    \"672835ea8fdd413c82f1e76ab65e76795e0efe2148b0d621b278cbbebb216318\",\n",
      "    \"547546774a0277adc7124e3e5f0a0155f4c36b566de8c4444b925e2afb64a47e\",\n",
      "    \"2e178f2efa0b79ddeb5cfa9601cbcd50b246992c791f8c6f34ccbbaa7306fe07\",\n",
      "    \"7e17e9ac8034b62bb3bc57d67d5d99a30aab5c77eba3b6b06cc7a760985e42cf\",\n",
      "    \"25eec7f731bf4d55ff4b1b9a13be585c83041af8ea18349aed801b85f10f290e\",\n",
      "    \"421329e223a3ce9c4991f54249817f67678cc07ec483139984cc7713d47a005e\",\n",
      "    \"6b117121ae605782b0b31a66da3bd463a20db3fc058716336acb529716bc07cf\",\n",
      "    \"40a3dabc6cd1ee16172926301c1cc298ace0f5d8d8674f4ddce35dc517a8b455\",\n",
      "    \"357cbebaf3700603fada98e809f93afa9930efe20cc57b3b1d1d751797dae512\",\n",
      "    \"1246df79f35eb6c9b4c75784dd19e13d316b8310e6b5a86c0ce70a0488d0ec33\",\n",
      "    \"17c274afe75c6b3c5fc7f4c320bbb8075cc15fdc2d688a630e000052dbacdd0f\",\n",
      "    \"1233e0a22d79e0ecdf0b2c60386b26add9513ca0de8cb9849a2d648a4454ae1b\",\n",
      "    \"0394ac5e3666151117353bf98208fa17dbe8accdaad8932bb76475e8b143b50d\",\n",
      "    \"6f94dcd7e900d72aa03b96c92eccf186928c82f185215119a0f21d93c2d0dab3\",\n",
      "    \"525269412a0776e5b87ed7fa61f2ba41a580c88f68a31c3f1a427d6c8ae224f1\",\n",
      "    \"78309883151ec65d5fbbaa7095e7b80feccb4cb86e2362e09c8efbcef2351796\",\n",
      "    \"0af5cc85bc08df0425b28d30d1013b542ed7366171440fdcb90a22333f5aef26\"\n",
      "  ]\n",
      "}\n"
     ]
    }
   ],
   "source": [
    "#To get coins\n",
    "!\"D:\\IV_II\\blockchain\\Bitcoin\\daemon\\bitcoin-cli\" -regtest -rpcwallet=dean -generate 200"
   ]
  },
  {
   "cell_type": "code",
   "execution_count": 113,
   "id": "003404c0",
   "metadata": {},
   "outputs": [
    {
     "name": "stdout",
     "output_type": "stream",
     "text": [
      "931.25000000\n"
     ]
    }
   ],
   "source": [
    "#check balance\n",
    "!\"D:\\IV_II\\blockchain\\Bitcoin\\daemon\\bitcoin-cli\" -regtest -rpcwallet=dean getbalance"
   ]
  },
  {
   "cell_type": "code",
   "execution_count": 114,
   "id": "0ecf0ce2",
   "metadata": {},
   "outputs": [
    {
     "name": "stdout",
     "output_type": "stream",
     "text": [
      "bcrt1qcsetuxumdvcfphyy70egp7hmntt654cvgcnlvp\n"
     ]
    }
   ],
   "source": [
    "!\"D:\\IV_II\\blockchain\\Bitcoin\\daemon\\bitcoin-cli\" -regtest -rpcwallet=dean getnewaddress"
   ]
  },
  {
   "cell_type": "code",
   "execution_count": 116,
   "id": "a28bc746",
   "metadata": {},
   "outputs": [
    {
     "name": "stdout",
     "output_type": "stream",
     "text": [
      "ca7abba02bc7bba5b8320c67f68e20f415fd184caa69346af31632fb76924c4a\n"
     ]
    }
   ],
   "source": [
    "#making transaction in nikisha public key for 0.5,Send 0.5 BTC with a fee rate of 25 sat/vB  using named arguments\n",
    "!\"D:\\IV_II\\blockchain\\Bitcoin\\daemon\\bitcoin-cli\" -regtest -rpcwallet=sam -named sendtoaddress address=\"bcrt1qcsetuxumdvcfphyy70egp7hmntt654cvgcnlvp\" amount=0.2 fee_rate=15"
   ]
  },
  {
   "cell_type": "code",
   "execution_count": 117,
   "id": "01d31404",
   "metadata": {},
   "outputs": [
    {
     "name": "stdout",
     "output_type": "stream",
     "text": [
      "7450c4969571b7d19f4677403b7e3ab68767bc0957a92f80b36bf789bad8aa3e\n"
     ]
    }
   ],
   "source": [
    "#making transaction between dean and sam\n",
    "!\"D:\\IV_II\\blockchain\\Bitcoin\\daemon\\bitcoin-cli\" -regtest -rpcwallet=sam -named sendtoaddress address=\"bcrt1qcsetuxumdvcfphyy70egp7hmntt654cvgcnlvp\" amount=0.2 fee_rate=15"
   ]
  },
  {
   "cell_type": "code",
   "execution_count": 118,
   "id": "2ac9227c",
   "metadata": {},
   "outputs": [
    {
     "name": "stdout",
     "output_type": "stream",
     "text": [
      "3737.09995770\n"
     ]
    }
   ],
   "source": [
    "#amount after in transaction transaction\n",
    "!\"D:\\IV_II\\blockchain\\Bitcoin\\daemon\\bitcoin-cli\" -regtest -rpcwallet=sam getbalance"
   ]
  }
 ],
 "metadata": {
  "kernelspec": {
   "display_name": "Python 3 (ipykernel)",
   "language": "python",
   "name": "python3"
  },
  "language_info": {
   "codemirror_mode": {
    "name": "ipython",
    "version": 3
   },
   "file_extension": ".py",
   "mimetype": "text/x-python",
   "name": "python",
   "nbconvert_exporter": "python",
   "pygments_lexer": "ipython3",
   "version": "3.8.3"
  }
 },
 "nbformat": 4,
 "nbformat_minor": 5
}
